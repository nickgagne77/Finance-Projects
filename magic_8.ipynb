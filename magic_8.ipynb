{
 "cells": [
  {
   "cell_type": "code",
   "execution_count": 4,
   "metadata": {},
   "outputs": [
    {
     "name": "stdout",
     "output_type": "stream",
     "text": [
      "Nick asks: \n",
      "The fabric of reality is at risk!\n"
     ]
    }
   ],
   "source": [
    "import random \n",
    "\n",
    "name = input(\"Enter your name: \")\n",
    "\n",
    "question = input(\"Ask a Yes/No question to the Magic 8-Ball: \")\n",
    "\n",
    "answer = \"\"\n",
    "\n",
    "random_number = random.randint(1, 9)\n",
    "\n",
    "# print(random_number)\n",
    "\n",
    "if random_number == 1:\n",
    "  answer = \"Yes - definitely.\"\n",
    "elif random_number == 2:\n",
    "  answer = \"It is decidedly so\"\n",
    "elif random_number == 3:\n",
    "  answer = \"Without a doubt.\"\n",
    "elif random_number == 4:\n",
    "  answer = \"Reply hazy, try again.\"\n",
    "elif random_number == 5:\n",
    "  answer = \"Ask again later.\"\n",
    "elif random_number == 6:\n",
    "  answer = \"Better not tell you now.\"\n",
    "elif random_number == 7:\n",
    "  answer = \"My sources say no.\"\n",
    "elif random_number == 8:\n",
    "  answer = \"Outlook not so good.\"\n",
    "elif random_number == 9:\n",
    "  answer = \"Very doubtful.\"\n",
    "else:\n",
    "  answer = \"Error\"\n",
    "\n",
    "# Gestion si variable name est vide\n",
    "\n",
    "if name == \"\":\n",
    "  print(\"Question: \" + question)\n",
    "else: \n",
    "  print(name + \" asks: \" + question)\n",
    "\n",
    "# Gestion si variable question est vide \n",
    "\n",
    "if question == \"\":\n",
    "  print(\"The fabric of reality is at risk!\")\n",
    "else:\n",
    "  print(\"Magic 8-Ball's answer: \" + answer)\n",
    "\n"
   ]
  }
 ],
 "metadata": {
  "interpreter": {
   "hash": "3c3932d8e7311c234d609670f534071e1d398740910fbeb4d36999b845df9575"
  },
  "kernelspec": {
   "display_name": "Python 3.9.7 64-bit ('base': conda)",
   "language": "python",
   "name": "python3"
  },
  "language_info": {
   "codemirror_mode": {
    "name": "ipython",
    "version": 3
   },
   "file_extension": ".py",
   "mimetype": "text/x-python",
   "name": "python",
   "nbconvert_exporter": "python",
   "pygments_lexer": "ipython3",
   "version": "3.9.7"
  },
  "orig_nbformat": 4
 },
 "nbformat": 4,
 "nbformat_minor": 2
}
