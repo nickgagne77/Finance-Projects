{
 "cells": [
  {
   "cell_type": "code",
   "execution_count": 6,
   "id": "2082afbb-2399-4aaf-b5b4-910b46da5d9c",
   "metadata": {},
   "outputs": [
    {
     "name": "stdout",
     "output_type": "stream",
     "text": [
      "Type a number sstr\n"
     ]
    },
    {
     "name": "stdout",
     "output_type": "stream",
     "text": [
      "Please type an integer.\n"
     ]
    }
   ],
   "source": [
    "# Assignement on expetion handling \n",
    "\n",
    "a = input(\"Type a number\")\n",
    "\n",
    "try:\n",
    "    int(a)\n",
    "    \n",
    "# Will be executed if the user does not input an integer     \n",
    "except ValueError: \n",
    "    print(\"Please type an integer.\")"
   ]
  },
  {
   "cell_type": "code",
   "execution_count": 8,
   "id": "d7dd794e-9a1a-4d5e-90f8-8dc3ac230d7f",
   "metadata": {},
   "outputs": [
    {
     "data": {
      "text/plain": [
       "'It was a bright cold day in April'"
      ]
     },
     "execution_count": 8,
     "metadata": {},
     "output_type": "execute_result"
    }
   ],
   "source": [
    "\"It was a bright cold day in April, and the clocks were striking thirteen.\"[:33]"
   ]
  },
  {
   "cell_type": "code",
   "execution_count": 1,
   "id": "f40199ea-42d8-4226-a271-22a459261e8f",
   "metadata": {},
   "outputs": [
    {
     "name": "stdout",
     "output_type": "stream",
     "text": [
      "The Walking Dead\n",
      "0\n",
      "Entourage\n",
      "1\n",
      "The Sopranos\n",
      "2\n",
      "The Vampire Diaries\n",
      "3\n"
     ]
    }
   ],
   "source": [
    "shows = [\"The Walking Dead\", \"Entourage\", \"The Sopranos\", \"The Vampire Diaries\"]\n",
    "\n",
    "i = 0\n",
    "for show in shows: \n",
    "    print(i)\n",
    "     \n",
    "    i = i + 1\n",
    "    \n",
    "    print(show)\n",
    "    \n",
    "\n",
    "    "
   ]
  },
  {
   "cell_type": "code",
   "execution_count": 8,
   "id": "add04e58-ceef-4f53-b4d2-5d49239c4afa",
   "metadata": {},
   "outputs": [
    {
     "name": "stdout",
     "output_type": "stream",
     "text": [
      "Guess a number!:  23\n"
     ]
    },
    {
     "name": "stdout",
     "output_type": "stream",
     "text": [
      "You guessed wrong! If you want to quit, type q.\n",
      "\n"
     ]
    },
    {
     "name": "stdout",
     "output_type": "stream",
     "text": [
      "Guess a number!:  22\n"
     ]
    },
    {
     "name": "stdout",
     "output_type": "stream",
     "text": [
      "You guessed right! If you want to quit, type q.\n",
      " \n"
     ]
    },
    {
     "name": "stdout",
     "output_type": "stream",
     "text": [
      "Guess a number!:  q\n"
     ]
    },
    {
     "name": "stdout",
     "output_type": "stream",
     "text": [
      "Goodbye.\n"
     ]
    }
   ],
   "source": [
    "numbers = [0,15,17,22,30,45,60]\n",
    "answer = 0\n",
    " \n",
    "while True:\n",
    "    flag = True\n",
    "    answer = input('Guess a number!: ')\n",
    "    answer = answer.lower()\n",
    "    if answer == 'q':\n",
    "        print('Goodbye.')\n",
    "        break\n",
    "    try:\n",
    "        answer = int(answer)\n",
    "    except ValueError:\n",
    "        print('Please, type a number or q to quit.\\n')\n",
    "        flag = False\n",
    "    if answer in numbers:\n",
    "        print('You guessed right! If you want to quit, type q.\\n ')\n",
    "    else:\n",
    "        if flag == True:\n",
    "          print('You guessed wrong! If you want to quit, type q.\\n')\n",
    "        \n",
    "\n",
    "    \n",
    "        "
   ]
  },
  {
   "cell_type": "code",
   "execution_count": 19,
   "id": "8a86ef05-986c-4133-bba4-f6e5f908d34c",
   "metadata": {},
   "outputs": [
    {
     "name": "stdout",
     "output_type": "stream",
     "text": [
      "10\n",
      "9\n",
      "8\n",
      "7\n",
      "6\n",
      "5\n",
      "4\n",
      "3\n",
      "2\n",
      "1\n",
      "0\n"
     ]
    }
   ],
   "source": [
    "x = 10\n",
    "while x > 0:\n",
    "    \n",
    "    for i in range(0, 11):\n",
    "        print(x)\n",
    "        x = x - 1 \n"
   ]
  },
  {
   "cell_type": "code",
   "execution_count": 20,
   "id": "c2985a7f-6091-4404-98d5-dc44bf29c79f",
   "metadata": {},
   "outputs": [
    {
     "data": {
      "text/plain": [
       "2"
      ]
     },
     "execution_count": 20,
     "metadata": {},
     "output_type": "execute_result"
    }
   ],
   "source": [
    "import statistics as st \n",
    "\n",
    "numbers  = [1,2,2,3]\n",
    "\n",
    "st.mean(numbers)\n",
    "\n"
   ]
  },
  {
   "cell_type": "code",
   "execution_count": 13,
   "id": "03f8bd3f-7e9b-4367-9156-6ce80d637014",
   "metadata": {},
   "outputs": [
    {
     "name": "stdout",
     "output_type": "stream",
     "text": [
      "Welcome to Hangman\n",
      "\n",
      "\n",
      "__ __ __ __ __\n",
      "\n",
      "________        \n",
      "\n",
      "\n",
      "__ e __ __ __\n",
      "\n",
      "________        \n",
      "|               \n",
      "\n",
      "\n",
      "__ e __ __ __\n",
      "\n",
      "________        \n",
      "|               \n",
      "|        |      \n",
      "\n",
      "\n",
      "__ e __ __ o\n",
      "\n",
      "________        \n",
      "|               \n",
      "|        |      \n",
      "|        0      \n",
      "\n",
      "\n",
      "__ e l l o\n",
      "\n",
      "________        \n",
      "|               \n",
      "|        |      \n",
      "|        0      \n",
      "|       /|\\     \n",
      "\n",
      "\n",
      "h e l l o\n",
      "\n",
      "________        \n",
      "|               \n",
      "|        |      \n",
      "|        0      \n",
      "|       /|\\     \n",
      "|       / \\     \n",
      "You win!\n",
      "h e l l o\n"
     ]
    }
   ],
   "source": [
    "import random \n",
    "\n",
    "words = [\"hello\", \"rocks\", \"cat\", \"music\", \"food\", \"night\", \"day\", \"buddha\"]\n",
    "\n",
    "def hangman(word):\n",
    "    wrong = 0\n",
    "    stages = [\"\",\n",
    "             \"________        \",\n",
    "             \"|               \",\n",
    "             \"|        |      \",\n",
    "             \"|        0      \",\n",
    "             \"|       /|\\     \",\n",
    "             \"|       / \\     \",\n",
    "             \"|               \"\n",
    "              ]\n",
    "    rletters = list(word)\n",
    "    board = [\"__\"] * len(word)\n",
    "    win = False\n",
    "    print(\"Welcome to Hangman\")\n",
    "    while wrong < len(stages) - 1:\n",
    "        print(\"\\n\")\n",
    "        msg = \"Guess a letter\"\n",
    "        char = input(msg)\n",
    "        if char in rletters:\n",
    "            cind = rletters.index(char)\n",
    "            board[cind] = char\n",
    "            rletters[cind] = '$'\n",
    "\n",
    "# here, I repeated the if statements if the letter were to be multiple times in the word to not have to guess it again\n",
    "        if char in rletters:\n",
    "            cind = rletters.index(char)\n",
    "            board[cind] = char\n",
    "            rletters[cind] = '$'\n",
    "        if char in rletters:\n",
    "            cind = rletters.index(char)\n",
    "            board[cind] = char\n",
    "            rletters[cind] = '$'\n",
    "        if char in rletters:\n",
    "            cind = rletters.index(char)\n",
    "            board[cind] = char\n",
    "            rletters[cind] = '$'\n",
    "        else:\n",
    "            wrong += 1\n",
    "        print((\" \".join(board)))\n",
    "        e = wrong + 1\n",
    "        print(\"\\n\".join(stages[0: e]))\n",
    "        if \"__\" not in board:\n",
    "            print(\"You win!\")\n",
    "            print(\" \".join(board))\n",
    "            win = True\n",
    "            break\n",
    "    if not win:\n",
    "        print(\"\\n\"\n",
    "              .join(stages[0: wrong]))\n",
    "        print(\"You lose! It was {}.\".format(word))\n",
    "\n",
    "hangman(random.choice(words))\n",
    "\n",
    "\n",
    "\n",
    "\n",
    "\n",
    "\n"
   ]
  },
  {
   "cell_type": "code",
   "execution_count": null,
   "id": "d70f42ac",
   "metadata": {},
   "outputs": [],
   "source": [
    "# object oriented programming\n",
    "\n",
    "class Rectangle():\n",
    "    def __init__(self, width, length):\n",
    "        self.width = width\n",
    "        self.length = length\n",
    "\n",
    "    def calculate_perimeter(self):\n",
    "        return self.width * 2 + self.length * 2\n",
    "\n",
    "\n",
    "class Square():\n",
    "    def __init__(self, s1):\n",
    "        self.s1 = s1\n",
    "\n",
    "    def calculate_perimeter(self):\n",
    "        return self.s1 * 4\n",
    "\n",
    "\n",
    "class Square(): \n",
    "    def __init__(self, s1):\n",
    "        self.s1 = s1\n",
    "        \n",
    "    def change_size(self, x):\n",
    "        self.s1 = self.s1 + x\n",
    "        \n",
    "\n",
    "        "
   ]
  },
  {
   "cell_type": "code",
   "execution_count": 8,
   "id": "54da66dc",
   "metadata": {},
   "outputs": [
    {
     "name": "stdout",
     "output_type": "stream",
     "text": [
      "I am a shape\n",
      "I am a shape\n"
     ]
    },
    {
     "data": {
      "text/plain": [
       "140"
      ]
     },
     "execution_count": 8,
     "metadata": {},
     "output_type": "execute_result"
    }
   ],
   "source": [
    "# Inheritance assignment \n",
    "\n",
    "class Shape():\n",
    "    def what_am_i(self):\n",
    "        print(\"I am a shape\")\n",
    "\n",
    "class Rectangle(Shape):\n",
    "    def __init__(self, width, length):\n",
    "        self.width = width\n",
    "        self.length = length\n",
    "\n",
    "    def calculate_perimeter(self):\n",
    "        return self.width * 2 + self.length * 2\n",
    "\n",
    "\n",
    "class Square(Shape):\n",
    "    def __init__(self, s1):\n",
    "        self.s1 = s1\n",
    "\n",
    "    def calculate_perimeter(self):\n",
    "        return self.s1 * 4\n",
    "\n",
    "a_square = Square(29)\n",
    "a_rectangle = Rectangle(20,50)\n",
    "a_rectangle.what_am_i()\n",
    "a_square.what_am_i()\n",
    "\n",
    "a_square.calculate_perimeter()\n",
    "a_rectangle.calculate_perimeter()"
   ]
  },
  {
   "cell_type": "code",
   "execution_count": null,
   "id": "911a0d9d",
   "metadata": {},
   "outputs": [],
   "source": [
    "# more OOP\n",
    "\n",
    "class Square():\n",
    "    square_list = []\n",
    "    def __init__(self):\n",
    "        self.square_list.append(self)\n",
    "\n",
    "\n"
   ]
  },
  {
   "cell_type": "code",
   "execution_count": 16,
   "id": "c2d3b042",
   "metadata": {},
   "outputs": [
    {
     "name": "stdout",
     "output_type": "stream",
     "text": [
      "29 by 29 by 29 by 29\n"
     ]
    }
   ],
   "source": [
    "# more OOP\n",
    "\n",
    "class Square:\n",
    "    def __init__(self, s1):\n",
    "        self.s1 = s1\n",
    "        \n",
    "    def calculate_perimeter(self):\n",
    "        return self.s1 * 4\n",
    "\n",
    "    def __repr__(self):\n",
    "        return \"{} by {} by {} by {}\".format(self.s1, self.s1, self.s1, self.s1)\n",
    "\n",
    "print(Square(29))\n",
    "\n",
    "    \n"
   ]
  },
  {
   "cell_type": "code",
   "execution_count": 17,
   "id": "d0284e24",
   "metadata": {},
   "outputs": [
    {
     "name": "stdout",
     "output_type": "stream",
     "text": [
      "True\n",
      "False\n"
     ]
    }
   ],
   "source": [
    "class Person():\n",
    "    def __init__(self):\n",
    "        pass\n",
    "\n",
    "def check_if_same(obj1, obj2):\n",
    "    if obj1 is obj2:\n",
    "        return obj1 is obj2\n",
    "    else:\n",
    "        return obj1 is obj2\n",
    "    \n",
    "p1 = Person()\n",
    "same_p = p1\n",
    "\n",
    "p2 = Person()\n",
    "another_p = p2\n",
    "\n",
    "\n",
    "print(check_if_same(p1, same_p))\n",
    "print(check_if_same(same_p, another_p))"
   ]
  },
  {
   "cell_type": "code",
   "execution_count": 19,
   "id": "87e349b2",
   "metadata": {},
   "outputs": [
    {
     "data": {
      "text/plain": [
       "False"
      ]
     },
     "execution_count": 19,
     "metadata": {},
     "output_type": "execute_result"
    }
   ],
   "source": [
    "def same(obj1, obj2):\n",
    "    return obj1 is obj2\n",
    "    \n",
    "\n",
    "class Square:\n",
    "    def __init__(self):\n",
    "        pass\n",
    "\n",
    "class Square2:\n",
    "    def __init__(self):\n",
    "        pass\n",
    "\n",
    "same(Square, Square2)"
   ]
  },
  {
   "cell_type": "code",
   "execution_count": 23,
   "id": "4247ffae",
   "metadata": {},
   "outputs": [
    {
     "name": "stdout",
     "output_type": "stream",
     "text": [
      "Apple Watch:100\n",
      "Mac:498\n",
      "\n",
      "Apple Watch:97\n",
      "Mac:495\n",
      "\n",
      "The customer has purchased\n",
      "Apple Watch\n",
      "Mac\n",
      "Apple Watch\n",
      "Mac\n",
      "Apple Watch\n",
      "Mac\n"
     ]
    }
   ],
   "source": [
    "# ecommerce code \n",
    "\n",
    "class Customer:\n",
    "    def __init__(self, name, email):\n",
    "        self.name = name\n",
    "        self.email = email\n",
    "        self.purchases = []\n",
    "\n",
    "    def purchase(self, inventory, product):\n",
    "        inventory_dict = inventory.inventory\n",
    "        if product in inventory_dict:\n",
    "            if inventory_dict[product] > 0:\n",
    "                self.purchases.append(product)\n",
    "                inventory_dict[product] -= 1 # -= decrementes and += incrementes\n",
    "            else:\n",
    "                print('We are out of stock!')\n",
    "        else:\n",
    "            print(\"We don't have that product!\")\n",
    "\n",
    "    def print_purchases(self):\n",
    "        print(\"The customer has purchased\")\n",
    "        for item in self.purchases:\n",
    "            print(item.name)\n",
    "\n",
    "\n",
    "class Product:\n",
    "    def __init__(self, name, price):\n",
    "        self.name = name\n",
    "        self.price = price\n",
    "\n",
    "\n",
    "class Inventory:\n",
    "    def __init__(self):\n",
    "        self.inventory = {}  #{} defines a dictionnary key : value \n",
    "\n",
    "    def add_product(self, product, quantity):\n",
    "        if product not in self.inventory:\n",
    "            self.inventory[product] = quantity\n",
    "        else:\n",
    "            self.inventory[product] += quantity\n",
    "\n",
    "    def print_inventory(self):\n",
    "        for key, value in self.inventory.items():\n",
    "            print(key.name + ':' + str(value))\n",
    "        print()\n",
    "\n",
    "\n",
    "customer = Customer('Joe', 'joe@gmail.com')\n",
    "#print(customer.name)\n",
    "#print(customer.email)\n",
    "\n",
    "apple_watch = Product('Apple Watch', 299)\n",
    "#print(apple_watch.name)\n",
    "#print(apple_watch.price)\n",
    "\n",
    "mac = Product('Mac', 1999)\n",
    "#print(mac.name)\n",
    "#print(mac.price)\n",
    "\n",
    "inventory = Inventory()\n",
    "inventory.add_product(apple_watch, 100)\n",
    "#inventory.print_inventory()\n",
    "inventory.add_product(mac, 498)\n",
    "\n",
    "inventory.print_inventory()\n",
    "customer.purchase(inventory, apple_watch)\n",
    "customer.purchase(inventory, mac)\n",
    "inventory.print_inventory()\n",
    "customer.print_purchases()"
   ]
  },
  {
   "cell_type": "code",
   "execution_count": 1,
   "id": "e7075f8c",
   "metadata": {},
   "outputs": [
    {
     "name": "stdout",
     "output_type": "stream",
     "text": [
      "beginning War!\n",
      "nico drew Queen of clubs chacha drew Jack of diamonds\n",
      "nico wins this round\n",
      "nico drew 4 of spades chacha drew 6 of hearts\n",
      "chacha wins this round\n",
      "nico drew King of clubs chacha drew Jack of hearts\n",
      "nico wins this round\n",
      "nico drew 8 of diamonds chacha drew 3 of clubs\n",
      "nico wins this round\n",
      "nico drew 4 of diamonds chacha drew 10 of spades\n",
      "chacha wins this round\n",
      "nico drew King of spades chacha drew Ace of clubs\n",
      "chacha wins this round\n",
      "nico drew Queen of diamonds chacha drew Ace of spades\n",
      "chacha wins this round\n",
      "War is over.chacha wins\n"
     ]
    }
   ],
   "source": [
    "# War code (bataille en francais)\n",
    "\n",
    "from random import shuffle\n",
    "\n",
    "\n",
    "class Card:\n",
    "    suits = [\"spades\", \"hearts\", \"diamonds\", \"clubs\"]\n",
    "    \n",
    "    values = [None, None,\"2\", \"3\", \"4\", \"5\", \"6\", \"7\", \"8\", \n",
    "              \"9\", \"10\", \"Jack\", \"Queen\", \"King\", \"Ace\"] ## None are the for indexes to match card values \n",
    "\n",
    "    def __init__(self, v, s):\n",
    "        \"\"\"suit + value are ints\"\"\"\n",
    "        self.value = v\n",
    "        self.suit = s\n",
    "\n",
    "    def __lt__(self, c2):   #magic method  \n",
    "        if self.value < c2.value:\n",
    "            return True\n",
    "        if self.value == c2.value:\n",
    "            if self.suit < c2.suit:\n",
    "                return True\n",
    "            else:\n",
    "                return False\n",
    "        return False\n",
    "\n",
    "    def __gt__(self, c2):\n",
    "        if self.value > c2.value:\n",
    "            return True\n",
    "        if self.value == c2.value:\n",
    "            if self.suit > c2.suit:\n",
    "                return True\n",
    "            else:\n",
    "                return False\n",
    "        return False\n",
    "\n",
    "    def __repr__(self):\n",
    "        v = self.values[self.value] + \" of \" + self.suits[self.suit]\n",
    "        return v\n",
    "    \n",
    "class Player:\n",
    "   def __init__(self, name):\n",
    "       self.wins = 0\n",
    "       self.card = None\n",
    "       self.name = name      \n",
    "      \n",
    "class Deck:\n",
    "    def __init__(self):\n",
    "        self.cards = []\n",
    "        for i in range(2, 15):\n",
    "            for j in range(4):\n",
    "                self.cards.append(Card(i, j))\n",
    "        shuffle(self.cards)\n",
    "\n",
    "    def rm_card(self):\n",
    "        if len(self.cards) == 0:\n",
    "            return\n",
    "        return self.cards.pop()  \n",
    "      \n",
    "           \n",
    "class Game:\n",
    "    def __init__(self):\n",
    "        name1 = input(\"p1 name \")\n",
    "        name2 = input(\"p2 name \")\n",
    "        self.deck = Deck()\n",
    "        self.p1 = Player(name1)\n",
    "        self.p2 = Player(name2)\n",
    "\n",
    "    def wins(self, winner):\n",
    "        w = \"{} wins this round\"\n",
    "        w = w.format(winner)\n",
    "        print(w)\n",
    "\n",
    "    def draw(self, p1n, p1c, p2n, p2c):\n",
    "        d = \"{} drew {} {} drew {}\"\n",
    "        d = d.format(p1n, p1c, p2n, p2c)\n",
    "        print(d)\n",
    "\n",
    "    def play_game(self):\n",
    "        cards = self.deck.cards\n",
    "        print(\"beginning War!\")\n",
    "        while len(cards) >= 2:\n",
    "            m = \"q to quit. Any \" + \"key to play:\"\n",
    "            response = input(m)\n",
    "            if response == 'q':\n",
    "                break\n",
    "            p1c = self.deck.rm_card()\n",
    "            p2c = self.deck.rm_card()\n",
    "            p1n = self.p1.name\n",
    "            p2n = self.p2.name\n",
    "            self.draw(p1n, p1c, p2n, p2c)\n",
    "            if p1c > p2c:\n",
    "                self.p1.wins += 1\n",
    "                self.wins(self.p1.name)\n",
    "            else:\n",
    "                self.p2.wins += 1\n",
    "                self.wins(self.p2.name)\n",
    "\n",
    "        win = self.winner(self.p1, self.p2)\n",
    "        print(\"War is over.{} wins\".format(win))\n",
    "\n",
    "    def winner(self, p1, p2):\n",
    "        if p1.wins > p2.wins:\n",
    "            return p1.name\n",
    "        if p1.wins < p2.wins:\n",
    "            return p2.name\n",
    "        return \"It was a tie!\"   \n",
    "\n",
    "game = Game()\n",
    "game.play_game()"
   ]
  },
  {
   "cell_type": "code",
   "execution_count": 28,
   "id": "96194b1b",
   "metadata": {},
   "outputs": [
    {
     "name": "stdout",
     "output_type": "stream",
     "text": [
      "['boo', 'loo']\n"
     ]
    }
   ],
   "source": [
    "# regular expression that matches any word thtat starts with any character and followed by two o'S \n",
    "\n",
    "import re\n",
    "\n",
    "string = \"The ghost that says boo haunts the loo\"\n",
    "m = re.findall(\"[bl]oo\", string, re.IGNORECASE)\n",
    "print(m)"
   ]
  },
  {
   "cell_type": "code",
   "execution_count": null,
   "id": "5f0d9848",
   "metadata": {},
   "outputs": [],
   "source": [
    "#web scraper code \n",
    "\n",
    "import urllib.request\n",
    "from bs4 import BeautifulSoup\n",
    "\n",
    "\n",
    "class Scraper:\n",
    "    def __init__(self, site):\n",
    "        self.site = site\n",
    "\n",
    "    def scrape(self):\n",
    "        r = urllib.request.urlopen(self.site)\n",
    "        html = r.read()\n",
    "        parser = \"html.parser\"\n",
    "        sp = BeautifulSoup(html, parser)\n",
    "        for tag in sp.find_all(\"a\"):\n",
    "            url = tag.get(\"href\")\n",
    "            print(\"\\n\" + url)\n",
    "           \n",
    "scrape = Scraper('https://news.google.com')\n",
    "scrape.scrape()"
   ]
  },
  {
   "cell_type": "code",
   "execution_count": null,
   "id": "b25e7b13",
   "metadata": {},
   "outputs": [],
   "source": [
    "def fizz_buzz():\n",
    "    for i in range(1, 101):\n",
    "        if i % 3 == 0 and i % 5 == 0:\n",
    "            print(\"FizzBuzz\")\n",
    "        elif i % 3 == 0:\n",
    "            print(\"Fizz\")\n",
    "        elif i % 5 == 0:\n",
    "            print(\"Buzz\")\n",
    "        else:\n",
    "            print(i)\n",
    "\n",
    "            "
   ]
  },
  {
   "cell_type": "code",
   "execution_count": null,
   "id": "848a16c8",
   "metadata": {},
   "outputs": [],
   "source": [
    "def ss(number_list, n):\n",
    "    found = False\n",
    "    for i in number_list:\n",
    "        if i == n:\n",
    "            found = True\n",
    "            break\n",
    "    return found"
   ]
  },
  {
   "cell_type": "code",
   "execution_count": null,
   "id": "5097dcd6",
   "metadata": {},
   "outputs": [],
   "source": [
    "def is_palindrome(word):\n",
    "    word = word.lower()\n",
    "    return word[::-1] == word"
   ]
  },
  {
   "cell_type": "code",
   "execution_count": null,
   "id": "8d1cc1de",
   "metadata": {},
   "outputs": [],
   "source": [
    "def count_characters(string):\n",
    "    count_dict = {}\n",
    "    for c in string:\n",
    "        if c in count_dict:\n",
    "            count_dict[c] += 1\n",
    "        else:\n",
    "            count_dict[c] = 1\n",
    "    print(count_dict)"
   ]
  },
  {
   "cell_type": "code",
   "execution_count": null,
   "id": "2a8b421e",
   "metadata": {},
   "outputs": [],
   "source": [
    "def is_anagram(w1, w2):\n",
    "    w1 = w1.lower()\n",
    "    w2 = w2.lower()\n",
    "    return sorted(w1) == sorted(w2)"
   ]
  }
 ],
 "metadata": {
  "kernelspec": {
   "display_name": "Python 3 (ipykernel)",
   "language": "python",
   "name": "python3"
  },
  "language_info": {
   "codemirror_mode": {
    "name": "ipython",
    "version": 3
   },
   "file_extension": ".py",
   "mimetype": "text/x-python",
   "name": "python",
   "nbconvert_exporter": "python",
   "pygments_lexer": "ipython3",
   "version": "3.9.7"
  }
 },
 "nbformat": 4,
 "nbformat_minor": 5
}
